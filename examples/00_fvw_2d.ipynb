{
 "cells": [
  {
   "cell_type": "code",
   "execution_count": 38,
   "metadata": {},
   "outputs": [],
   "source": [
    "import numpy as np\n",
    "import matplotlib.pyplot as plt\n",
    "from mpl_toolkits.axes_grid1 import make_axes_locatable\n",
    "import vortexwake.vortexwake as vw\n"
   ]
  },
  {
   "cell_type": "markdown",
   "metadata": {},
   "source": [
    "# 2D Free-Vortex Wake Example"
   ]
  },
  {
   "cell_type": "markdown",
   "metadata": {},
   "source": [
    "## Initialisation and simple forward simulation"
   ]
  },
  {
   "cell_type": "markdown",
   "metadata": {},
   "source": [
    "Configuration can be provided as a Python `dict` or loaded from a `.json` configuration file."
   ]
  },
  {
   "cell_type": "code",
   "execution_count": 2,
   "metadata": {},
   "outputs": [],
   "source": [
    "fvw_config_2d = {'dimension': 2, \n",
    "                 'time_step': 0.2, \n",
    "                 'num_rings': 60, \n",
    "                 'num_turbines': 1, \n",
    "                 'num_virtual_turbines': 1,\n",
    "                 'turbine_positions': [[0, 0], [5, 0]],\n",
    "                 'vortex_core_size': 0.1}"
   ]
  },
  {
   "cell_type": "markdown",
   "metadata": {},
   "source": [
    "Initialise the free-vortex wake model with the configuration `dict`"
   ]
  },
  {
   "cell_type": "code",
   "execution_count": 4,
   "metadata": {},
   "outputs": [],
   "source": [
    "fvw = vw.VortexWake2D(fvw_config_2d)"
   ]
  },
  {
   "cell_type": "code",
   "execution_count": 5,
   "metadata": {},
   "outputs": [],
   "source": [
    "## initialisation with .json configuration file\n",
    "# fvw_config_2d_file = \"../config/base_2d.json\"\n",
    "# fvw = vw.VortexWake2D(fvw_config_2d_file)"
   ]
  },
  {
   "cell_type": "markdown",
   "metadata": {},
   "source": [
    "The model state is initialised as a tuple of arrays and can be converted to a single state vector"
   ]
  },
  {
   "cell_type": "code",
   "execution_count": 6,
   "metadata": {},
   "outputs": [],
   "source": [
    "states = fvw.initialise_states()\n",
    "initial_state_vector = fvw.state_vector_from_states(*states)"
   ]
  },
  {
   "cell_type": "markdown",
   "metadata": {},
   "source": [
    "For running a simple simulation over 200 steps"
   ]
  },
  {
   "cell_type": "code",
   "execution_count": 8,
   "metadata": {},
   "outputs": [],
   "source": [
    "num_steps = 200"
   ]
  },
  {
   "cell_type": "markdown",
   "metadata": {},
   "source": [
    "Specify the control signal for the entire simulation"
   ]
  },
  {
   "cell_type": "code",
   "execution_count": 9,
   "metadata": {},
   "outputs": [],
   "source": [
    "controls = np.zeros((num_steps+1, fvw.total_controls))\n",
    "# controls for the first turbine\n",
    "controls[:, fvw.induction_idx] = 0.33\n",
    "controls[:, fvw.yaw_idx] = 0.\n",
    "# controls for the virtual turbine\n",
    "controls[:, fvw.induction_idx + fvw.num_controls] = 0.33\n",
    "controls[:, fvw.yaw_idx + fvw.num_controls] = 0."
   ]
  },
  {
   "cell_type": "markdown",
   "metadata": {},
   "source": [
    "The inflow can be specified independently for every time step, here initialised uniformly"
   ]
  },
  {
   "cell_type": "code",
   "execution_count": 11,
   "metadata": {},
   "outputs": [],
   "source": [
    "inflow = np.zeros((num_steps, fvw.dim)) + fvw.unit_vector_x"
   ]
  },
  {
   "cell_type": "markdown",
   "metadata": {},
   "source": [
    "Now the model is ready to run a simulation with the generated inputs. `.run_forward()` returns a tuple of state history and derivatives. For now, we are only interested in the state and not the tangent information"
   ]
  },
  {
   "cell_type": "code",
   "execution_count": 15,
   "metadata": {},
   "outputs": [],
   "source": [
    "state_history = fvw.run_forward(initial_state_vector,\n",
    "                     controls,\n",
    "                     inflow,\n",
    "                     num_steps,\n",
    "                     with_tangent=False)[0]"
   ]
  },
  {
   "cell_type": "code",
   "execution_count": 25,
   "metadata": {},
   "outputs": [],
   "source": [
    "final_state = state_history[-1]\n",
    "final_controls = controls[-1]\n",
    "# unpack final state\n",
    "X,G,U,M = fvw.states_from_state_vector(final_state)"
   ]
  },
  {
   "cell_type": "markdown",
   "metadata": {},
   "source": [
    "Given the final state, we can plot the vortex particles"
   ]
  },
  {
   "cell_type": "code",
   "execution_count": 40,
   "metadata": {},
   "outputs": [
    {
     "data": {
      "text/plain": [
       "Text(0, 0.5, 'y (-)')"
      ]
     },
     "execution_count": 40,
     "metadata": {},
     "output_type": "execute_result"
    },
    {
     "data": {
      "image/png": "[encoded data removed]",
      "text/plain": [
       "<Figure size 576x288 with 1 Axes>"
      ]
     },
     "metadata": {
      "needs_background": "light"
     },
     "output_type": "display_data"
    }
   ],
   "source": [
    "fig,ax = plt.subplots(1,1,figsize=(8,4))\n",
    "for ring in range(fvw.num_rings):\n",
    "    px = X[ring,:,0]\n",
    "    py = X[ring,:,1]\n",
    "    ax.scatter(px,py,c='k',s=10)\n",
    "ax.set_xlim(-1,10)\n",
    "ax.set_ylim(-1,1)\n",
    "ax.set_aspect(\"equal\")\n",
    "ax.set_xlabel(\"x (-)\")\n",
    "ax.set_ylabel(\"y (-)\")"
   ]
  },
  {
   "cell_type": "markdown",
   "metadata": {},
   "source": [
    "Additionally, we can evalate the velocity on a dense grid of points to visualise the velocity magnitude"
   ]
  },
  {
   "cell_type": "code",
   "execution_count": 41,
   "metadata": {},
   "outputs": [
    {
     "data": {
      "image/png": "[encoded data removed]",
      "text/plain": [
       "<Figure size 576x288 with 2 Axes>"
      ]
     },
     "metadata": {
      "needs_background": "light"
     },
     "output_type": "display_data"
    }
   ],
   "source": [
    "fig,ax = plt.subplots(1,1,figsize=(8,4))\n",
    "xcoords = np.arange(-1,10.1,0.1)\n",
    "ycoords = np.arange(-1,1.,0.1)\n",
    "xgrid,ygrid = np.meshgrid(xcoords,ycoords)\n",
    "xgrid = np.swapaxes(xgrid,0,1)\n",
    "ygrid = np.swapaxes(ygrid,0,1)\n",
    "points = np.array([xgrid,ygrid]).reshape(2,-1).T\n",
    "\n",
    "velocity = fvw.velocity(final_state,\n",
    "                        final_controls,\n",
    "                        points,\n",
    "                        with_tangent=False)[0]\n",
    "velocity_norm = np.linalg.norm(velocity, axis=1)\n",
    "velocity_norm = velocity_norm.reshape(len(xcoords), len(ycoords))\n",
    "\n",
    "levels = np.linspace(0.3,1.,15)\n",
    "c = ax.contourf(xgrid, ygrid, velocity_norm, cmap='Blues_r',levels=levels,extend=\"both\")\n",
    "ax.set_xlim(-1,10)\n",
    "ax.set_ylim(-1,1)\n",
    "ax.set_aspect(\"equal\")\n",
    "ax.set_xticks(np.arange(0,9))\n",
    "ax.set_yticks([-1,0,1])\n",
    "ax.set_xlabel(\"x (-)\")\n",
    "ax.set_ylabel(\"y (-)\")\n",
    "divider = make_axes_locatable(ax)\n",
    "cax = divider.append_axes(\"right\", size=\"5%\", pad=0.1)\n",
    "cb = plt.colorbar(c, cax=cax)\n",
    "cb.set_label(\"velocity magnitude (-)\")\n",
    "cb.set_ticks(np.arange(0.3,1.05,0.1))"
   ]
  },
  {
   "cell_type": "markdown",
   "metadata": {},
   "source": [
    "calculating a power signal?"
   ]
  },
  {
   "cell_type": "code",
   "execution_count": null,
   "metadata": {},
   "outputs": [],
   "source": []
  },
  {
   "cell_type": "code",
   "execution_count": null,
   "metadata": {},
   "outputs": [],
   "source": []
  }
 ],
 "metadata": {
  "kernelspec": {
   "display_name": "Python 3 (ipykernel)",
   "language": "python",
   "name": "python3"
  },
  "language_info": {
   "codemirror_mode": {
    "name": "ipython",
    "version": 3
   },
   "file_extension": ".py",
   "mimetype": "text/x-python",
   "name": "python",
   "nbconvert_exporter": "python",
   "pygments_lexer": "ipython3",
   "version": "3.9.13"
  }
 },
 "nbformat": 4,
 "nbformat_minor": 1
}
